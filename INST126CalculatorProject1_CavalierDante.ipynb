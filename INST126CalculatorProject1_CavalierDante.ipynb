{
 "cells": [
  {
   "cell_type": "code",
   "execution_count": null,
   "metadata": {},
   "outputs": [],
   "source": [
    "# This promts the user to choose one of four math operations by inputting a number 1, 2, 3 or 4.\n",
    "\n",
    "input_operation = int(input(\"\"\"Choose a mathematical operation by inputting the corresponding number associated with each operation\\n \n",
    "                            1 = Addition\\n \n",
    "                            2 = Subtraction\\n \n",
    "                            3 = Multiplication\\n \n",
    "                            4 = Division\\n\"\"\"))\n",
    "\n",
    "# If the user chose addition, this promts the user for two values to perform addition and prints the result. \n",
    "\n",
    "if input_operation == 1:\n",
    "    input_addition1 = int(input(\"Input two numbers you would like to add together\\n What is your first number?\\n\"))\n",
    "    input_addition2 = int(input(\"What is your second number?\\n\"))\n",
    "    print(str(input_addition1), \"+\", str(input_addition2), \"=\", input_addition1 + input_addition2)\n",
    "    \n",
    "# If the user chose subtraction, this promts the user for two values to perform subtraction and prints the result.\n",
    "    \n",
    "elif input_operation == 2:\n",
    "    input_subtraction1 = int(input(\"Input two numbers you would like to subtract\\n What is your first number?\\n\"))\n",
    "    input_subtraction2 = int(input(\"What is your second number?\\n\"))\n",
    "    print(input_subtraction1, \"-\", input_subtraction2, \"=\", input_subtraction1 - input_subtraction2)\n",
    "    \n",
    "# If the user chose multiplication, this promts the user for two values to perform multiplication and prints the result.\n",
    "    \n",
    "elif input_operation == 3:\n",
    "    input_multiplication1 = int(input(\"Input two numbers you would like to multiply\\n What is your first number?\\n\"))\n",
    "    input_multiplication2 = int(input(\"What is your second number?\\n\"))\n",
    "    print(input_multiplication1, \"*\", input_multiplication2, \"=\", input_multiplication1 * input_multiplication2)\n",
    "    \n",
    "# If the user chose division, this promts the user for a dividend and divisor to perform division and prints the result.\n",
    "    \n",
    "elif input_operation == 4:\n",
    "    input_dividend = int(input(\"Input two numbers you would like to divide\\n What is your dividend?\\n\"))\n",
    "    input_divisor = int(input(\"What is your divisor?\\n\"))\n",
    "    print(input_dividend, \"/\", input_divisor, \"=\", input_dividend / input_divisor)\n"
   ]
  }
 ],
 "metadata": {
  "kernelspec": {
   "display_name": "Python 3",
   "language": "python",
   "name": "python3"
  },
  "language_info": {
   "codemirror_mode": {
    "name": "ipython",
    "version": 3
   },
   "file_extension": ".py",
   "mimetype": "text/x-python",
   "name": "python",
   "nbconvert_exporter": "python",
   "pygments_lexer": "ipython3",
   "version": "3.8.5"
  }
 },
 "nbformat": 4,
 "nbformat_minor": 4
}
